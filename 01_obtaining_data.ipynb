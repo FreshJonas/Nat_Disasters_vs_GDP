{
 "cells": [
  {
   "cell_type": "markdown",
   "metadata": {},
   "source": [
    "# 01 Obtaining Data\n",
    "\n",
    "This project came to be as a result that it caught our attention that in those countries that have fewer economic resources the number of environmental catastrophes (hurricanes, typhoons) seems higher than in those countries that enjoy financial success. This made us wonder if the presence of repeated natural disasters affects the economy of a country.\n",
    "\n",
    "To find that out, we try to corroborate our hypothesis with data. In this book we describe how we accessed the data for this project.\n"
   ]
  },
  {
   "cell_type": "code",
   "execution_count": 1,
   "metadata": {},
   "outputs": [],
   "source": [
    "import pandas as pd\n",
    "import warnings"
   ]
  },
  {
   "cell_type": "markdown",
   "metadata": {},
   "source": [
    "## 1.1 Nat. Disasters - Importing Data\n",
    "\n",
    "https://www.kaggle.com/datasets/jnegrini/emdat19002021?resource=download\n",
    "https://www.emdat.be/"
   ]
  },
  {
   "cell_type": "markdown",
   "source": [
    "We have obtained a dataset about naural disasters on [kaggle](https://www.kaggle.com/datasets/jnegrini/emdat19002021?resource=download). It contains information about natural disasters from 1900 to 2021. The data has been provided by [EM-DAT](https://www.emdat.be/), the Emergency Events Database. EM-DAT was created with the support of the World Health Organisation (WHO) and the Belgian Government. According to EM-DAT, the data is compiled from various sources, including UN agencies, non-governmental organisations, insurance companies, research institutes and press agencies.\n",
    "\n"
   ],
   "metadata": {
    "collapsed": false
   }
  },
  {
   "cell_type": "code",
   "execution_count": 8,
   "metadata": {},
   "outputs": [
    {
     "data": {
      "text/plain": "   Year Disaster Subgroup      Disaster Type   Event Name     Country  ISO  \\\n0  1900    Climatological            Drought          NaN  Cabo Verde  CPV   \n1  1900    Climatological            Drought          NaN       India  IND   \n2  1902       Geophysical         Earthquake          NaN   Guatemala  GTM   \n3  1902       Geophysical  Volcanic activity  Santa Maria   Guatemala  GTM   \n4  1902       Geophysical  Volcanic activity  Santa Maria   Guatemala  GTM   \n\n            Region Continent  Start Year  End Year  Total Deaths  \\\n0   Western Africa    Africa        1900      1900       11000.0   \n1    Southern Asia      Asia        1900      1900     1250000.0   \n2  Central America  Americas        1902      1902        2000.0   \n3  Central America  Americas        1902      1902        1000.0   \n4  Central America  Americas        1902      1902        6000.0   \n\n   Total Affected  \n0             NaN  \n1             NaN  \n2             NaN  \n3             NaN  \n4             NaN  ",
      "text/html": "<div>\n<style scoped>\n    .dataframe tbody tr th:only-of-type {\n        vertical-align: middle;\n    }\n\n    .dataframe tbody tr th {\n        vertical-align: top;\n    }\n\n    .dataframe thead th {\n        text-align: right;\n    }\n</style>\n<table border=\"1\" class=\"dataframe\">\n  <thead>\n    <tr style=\"text-align: right;\">\n      <th></th>\n      <th>Year</th>\n      <th>Disaster Subgroup</th>\n      <th>Disaster Type</th>\n      <th>Event Name</th>\n      <th>Country</th>\n      <th>ISO</th>\n      <th>Region</th>\n      <th>Continent</th>\n      <th>Start Year</th>\n      <th>End Year</th>\n      <th>Total Deaths</th>\n      <th>Total Affected</th>\n    </tr>\n  </thead>\n  <tbody>\n    <tr>\n      <th>0</th>\n      <td>1900</td>\n      <td>Climatological</td>\n      <td>Drought</td>\n      <td>NaN</td>\n      <td>Cabo Verde</td>\n      <td>CPV</td>\n      <td>Western Africa</td>\n      <td>Africa</td>\n      <td>1900</td>\n      <td>1900</td>\n      <td>11000.0</td>\n      <td>NaN</td>\n    </tr>\n    <tr>\n      <th>1</th>\n      <td>1900</td>\n      <td>Climatological</td>\n      <td>Drought</td>\n      <td>NaN</td>\n      <td>India</td>\n      <td>IND</td>\n      <td>Southern Asia</td>\n      <td>Asia</td>\n      <td>1900</td>\n      <td>1900</td>\n      <td>1250000.0</td>\n      <td>NaN</td>\n    </tr>\n    <tr>\n      <th>2</th>\n      <td>1902</td>\n      <td>Geophysical</td>\n      <td>Earthquake</td>\n      <td>NaN</td>\n      <td>Guatemala</td>\n      <td>GTM</td>\n      <td>Central America</td>\n      <td>Americas</td>\n      <td>1902</td>\n      <td>1902</td>\n      <td>2000.0</td>\n      <td>NaN</td>\n    </tr>\n    <tr>\n      <th>3</th>\n      <td>1902</td>\n      <td>Geophysical</td>\n      <td>Volcanic activity</td>\n      <td>Santa Maria</td>\n      <td>Guatemala</td>\n      <td>GTM</td>\n      <td>Central America</td>\n      <td>Americas</td>\n      <td>1902</td>\n      <td>1902</td>\n      <td>1000.0</td>\n      <td>NaN</td>\n    </tr>\n    <tr>\n      <th>4</th>\n      <td>1902</td>\n      <td>Geophysical</td>\n      <td>Volcanic activity</td>\n      <td>Santa Maria</td>\n      <td>Guatemala</td>\n      <td>GTM</td>\n      <td>Central America</td>\n      <td>Americas</td>\n      <td>1902</td>\n      <td>1902</td>\n      <td>6000.0</td>\n      <td>NaN</td>\n    </tr>\n  </tbody>\n</table>\n</div>"
     },
     "execution_count": 8,
     "metadata": {},
     "output_type": "execute_result"
    }
   ],
   "source": [
    "raw_natural_disaster_df = pd.read_csv('data/all_natural_disasters.csv')\n",
    "\n",
    "relevant_columns = ['Year', 'Disaster Subgroup', 'Disaster Type', 'Event Name', 'Country', \n",
    "'ISO', 'Region', 'Continent', 'Start Year', 'End Year', 'Total Deaths', 'Total Affected']\n",
    "\n",
    "natural_disaster_df = raw_natural_disaster_df[relevant_columns]\n",
    "natural_disaster_df.head()"
   ]
  },
  {
   "cell_type": "markdown",
   "metadata": {},
   "source": [
    "## 1.2 Nat. Disasters - Handling Columns"
   ]
  },
  {
   "cell_type": "markdown",
   "metadata": {},
   "source": [
    "### 1.2.1 Start & End Year\n",
    "Start and End Year Column will be transformed to a duration column. This way its easier to identy events that took place over a longer time period."
   ]
  },
  {
   "cell_type": "code",
   "execution_count": 12,
   "metadata": {},
   "outputs": [
    {
     "data": {
      "text/plain": "   Year Disaster Subgroup      Disaster Type   Event Name     Country  ISO  \\\n0  1900    Climatological            Drought          NaN  Cabo Verde  CPV   \n1  1900    Climatological            Drought          NaN       India  IND   \n2  1902       Geophysical         Earthquake          NaN   Guatemala  GTM   \n3  1902       Geophysical  Volcanic activity  Santa Maria   Guatemala  GTM   \n4  1902       Geophysical  Volcanic activity  Santa Maria   Guatemala  GTM   \n\n            Region Continent  Total Deaths  Total Affected  Duration  \n0   Western Africa    Africa       11000.0             NaN         0  \n1    Southern Asia      Asia     1250000.0             NaN         0  \n2  Central America  Americas        2000.0             NaN         0  \n3  Central America  Americas        1000.0             NaN         0  \n4  Central America  Americas        6000.0             NaN         0  ",
      "text/html": "<div>\n<style scoped>\n    .dataframe tbody tr th:only-of-type {\n        vertical-align: middle;\n    }\n\n    .dataframe tbody tr th {\n        vertical-align: top;\n    }\n\n    .dataframe thead th {\n        text-align: right;\n    }\n</style>\n<table border=\"1\" class=\"dataframe\">\n  <thead>\n    <tr style=\"text-align: right;\">\n      <th></th>\n      <th>Year</th>\n      <th>Disaster Subgroup</th>\n      <th>Disaster Type</th>\n      <th>Event Name</th>\n      <th>Country</th>\n      <th>ISO</th>\n      <th>Region</th>\n      <th>Continent</th>\n      <th>Total Deaths</th>\n      <th>Total Affected</th>\n      <th>Duration</th>\n    </tr>\n  </thead>\n  <tbody>\n    <tr>\n      <th>0</th>\n      <td>1900</td>\n      <td>Climatological</td>\n      <td>Drought</td>\n      <td>NaN</td>\n      <td>Cabo Verde</td>\n      <td>CPV</td>\n      <td>Western Africa</td>\n      <td>Africa</td>\n      <td>11000.0</td>\n      <td>NaN</td>\n      <td>0</td>\n    </tr>\n    <tr>\n      <th>1</th>\n      <td>1900</td>\n      <td>Climatological</td>\n      <td>Drought</td>\n      <td>NaN</td>\n      <td>India</td>\n      <td>IND</td>\n      <td>Southern Asia</td>\n      <td>Asia</td>\n      <td>1250000.0</td>\n      <td>NaN</td>\n      <td>0</td>\n    </tr>\n    <tr>\n      <th>2</th>\n      <td>1902</td>\n      <td>Geophysical</td>\n      <td>Earthquake</td>\n      <td>NaN</td>\n      <td>Guatemala</td>\n      <td>GTM</td>\n      <td>Central America</td>\n      <td>Americas</td>\n      <td>2000.0</td>\n      <td>NaN</td>\n      <td>0</td>\n    </tr>\n    <tr>\n      <th>3</th>\n      <td>1902</td>\n      <td>Geophysical</td>\n      <td>Volcanic activity</td>\n      <td>Santa Maria</td>\n      <td>Guatemala</td>\n      <td>GTM</td>\n      <td>Central America</td>\n      <td>Americas</td>\n      <td>1000.0</td>\n      <td>NaN</td>\n      <td>0</td>\n    </tr>\n    <tr>\n      <th>4</th>\n      <td>1902</td>\n      <td>Geophysical</td>\n      <td>Volcanic activity</td>\n      <td>Santa Maria</td>\n      <td>Guatemala</td>\n      <td>GTM</td>\n      <td>Central America</td>\n      <td>Americas</td>\n      <td>6000.0</td>\n      <td>NaN</td>\n      <td>0</td>\n    </tr>\n  </tbody>\n</table>\n</div>"
     },
     "execution_count": 12,
     "metadata": {},
     "output_type": "execute_result"
    }
   ],
   "source": [
    "# Transforming Start and End Year Column to Duration\n",
    "natural_disaster_df = natural_disaster_df.assign(Duration=(natural_disaster_df['End Year']-natural_disaster_df['Start Year']))\n",
    "natural_disaster_df = natural_disaster_df.drop(['Start Year', 'End Year'], axis=1)\n",
    "natural_disaster_df.head()"
   ]
  },
  {
   "cell_type": "code",
   "execution_count": 15,
   "metadata": {},
   "outputs": [
    {
     "data": {
      "text/plain": "array([ 0,  4,  9,  2,  3,  6,  1,  5, 50], dtype=int64)"
     },
     "execution_count": 15,
     "metadata": {},
     "output_type": "execute_result"
    }
   ],
   "source": [
    "natural_disaster_df['Duration'].unique()"
   ]
  },
  {
   "cell_type": "code",
   "execution_count": 17,
   "outputs": [
    {
     "data": {
      "text/plain": "0     15522\n1       476\n2        56\n4        31\n3        25\n5        10\n6         3\n9         2\n50        1\nName: Duration, dtype: int64"
     },
     "execution_count": 17,
     "metadata": {},
     "output_type": "execute_result"
    }
   ],
   "source": [
    "natural_disaster_df['Duration'].value_counts()"
   ],
   "metadata": {
    "collapsed": false
   }
  },
  {
   "cell_type": "markdown",
   "source": [
    "Most natural disasters lasted less than a year. Perhaps it would be more interesting to know how many months/days they lasted.\n",
    "\n",
    "TODO: Here we could investigate a little what is the best way to measure time (days/weeks/months/years)"
   ],
   "metadata": {
    "collapsed": false
   }
  },
  {
   "cell_type": "code",
   "execution_count": 21,
   "outputs": [
    {
     "name": "stdout",
     "output_type": "stream",
     "text": [
      "index 15421\n",
      "Year                            1969\n",
      "Disaster Subgroup        Geophysical\n",
      "Disaster Type             Earthquake\n",
      "Event Name                       NaN\n",
      "Country                      Morocco\n",
      "ISO                              MAR\n",
      "Region               Northern Africa\n",
      "Continent                     Africa\n",
      "Total Deaths                    11.0\n",
      "Total Affected                   NaN\n",
      "Duration                          50\n",
      "Name: 15421, dtype: object\n"
     ]
    }
   ],
   "source": [
    "# I had a particular interest in find which catastrophe has taken 50 years. Probably outlier/mistake?\n",
    "for idx, value in enumerate(natural_disaster_df['Duration']):\n",
    "    if value == 50:\n",
    "        print(f\"index {idx}\")\n",
    "        print(natural_disaster_df.iloc[idx])"
   ],
   "metadata": {
    "collapsed": false
   }
  },
  {
   "cell_type": "markdown",
   "metadata": {},
   "source": [
    "### 1.2.2 Disaster Subgroup & Type\n",
    "- Subgroup becomes Group since Group contained the same value for each row (Natural)\n",
    "- \"Disaster\" can be removed from the column names."
   ]
  },
  {
   "cell_type": "code",
   "execution_count": 22,
   "metadata": {},
   "outputs": [
    {
     "data": {
      "text/plain": "   Year           Group               Type   Event Name     Country  ISO  \\\n0  1900  Climatological            Drought          NaN  Cabo Verde  CPV   \n1  1900  Climatological            Drought          NaN       India  IND   \n2  1902     Geophysical         Earthquake          NaN   Guatemala  GTM   \n3  1902     Geophysical  Volcanic activity  Santa Maria   Guatemala  GTM   \n4  1902     Geophysical  Volcanic activity  Santa Maria   Guatemala  GTM   \n\n            Region Continent  Total Deaths  Total Affected  Duration  \n0   Western Africa    Africa       11000.0             NaN         0  \n1    Southern Asia      Asia     1250000.0             NaN         0  \n2  Central America  Americas        2000.0             NaN         0  \n3  Central America  Americas        1000.0             NaN         0  \n4  Central America  Americas        6000.0             NaN         0  ",
      "text/html": "<div>\n<style scoped>\n    .dataframe tbody tr th:only-of-type {\n        vertical-align: middle;\n    }\n\n    .dataframe tbody tr th {\n        vertical-align: top;\n    }\n\n    .dataframe thead th {\n        text-align: right;\n    }\n</style>\n<table border=\"1\" class=\"dataframe\">\n  <thead>\n    <tr style=\"text-align: right;\">\n      <th></th>\n      <th>Year</th>\n      <th>Group</th>\n      <th>Type</th>\n      <th>Event Name</th>\n      <th>Country</th>\n      <th>ISO</th>\n      <th>Region</th>\n      <th>Continent</th>\n      <th>Total Deaths</th>\n      <th>Total Affected</th>\n      <th>Duration</th>\n    </tr>\n  </thead>\n  <tbody>\n    <tr>\n      <th>0</th>\n      <td>1900</td>\n      <td>Climatological</td>\n      <td>Drought</td>\n      <td>NaN</td>\n      <td>Cabo Verde</td>\n      <td>CPV</td>\n      <td>Western Africa</td>\n      <td>Africa</td>\n      <td>11000.0</td>\n      <td>NaN</td>\n      <td>0</td>\n    </tr>\n    <tr>\n      <th>1</th>\n      <td>1900</td>\n      <td>Climatological</td>\n      <td>Drought</td>\n      <td>NaN</td>\n      <td>India</td>\n      <td>IND</td>\n      <td>Southern Asia</td>\n      <td>Asia</td>\n      <td>1250000.0</td>\n      <td>NaN</td>\n      <td>0</td>\n    </tr>\n    <tr>\n      <th>2</th>\n      <td>1902</td>\n      <td>Geophysical</td>\n      <td>Earthquake</td>\n      <td>NaN</td>\n      <td>Guatemala</td>\n      <td>GTM</td>\n      <td>Central America</td>\n      <td>Americas</td>\n      <td>2000.0</td>\n      <td>NaN</td>\n      <td>0</td>\n    </tr>\n    <tr>\n      <th>3</th>\n      <td>1902</td>\n      <td>Geophysical</td>\n      <td>Volcanic activity</td>\n      <td>Santa Maria</td>\n      <td>Guatemala</td>\n      <td>GTM</td>\n      <td>Central America</td>\n      <td>Americas</td>\n      <td>1000.0</td>\n      <td>NaN</td>\n      <td>0</td>\n    </tr>\n    <tr>\n      <th>4</th>\n      <td>1902</td>\n      <td>Geophysical</td>\n      <td>Volcanic activity</td>\n      <td>Santa Maria</td>\n      <td>Guatemala</td>\n      <td>GTM</td>\n      <td>Central America</td>\n      <td>Americas</td>\n      <td>6000.0</td>\n      <td>NaN</td>\n      <td>0</td>\n    </tr>\n  </tbody>\n</table>\n</div>"
     },
     "execution_count": 22,
     "metadata": {},
     "output_type": "execute_result"
    }
   ],
   "source": [
    "rename_dic = {'Disaster Subgroup' : 'Group', 'Disaster Type' : 'Type'}\n",
    "natural_disaster_df = natural_disaster_df.rename(columns=rename_dic)\n",
    "natural_disaster_df.head()"
   ]
  },
  {
   "cell_type": "markdown",
   "metadata": {},
   "source": [
    "## 1.3 Nat. Disasters - Display Dataframe Info"
   ]
  },
  {
   "cell_type": "code",
   "execution_count": 23,
   "metadata": {},
   "outputs": [
    {
     "name": "stdout",
     "output_type": "stream",
     "text": [
      "<class 'pandas.core.frame.DataFrame'>\n",
      "RangeIndex: 16126 entries, 0 to 16125\n",
      "Data columns (total 11 columns):\n",
      " #   Column          Non-Null Count  Dtype  \n",
      "---  ------          --------------  -----  \n",
      " 0   Year            16126 non-null  int64  \n",
      " 1   Group           16126 non-null  object \n",
      " 2   Type            16126 non-null  object \n",
      " 3   Event Name      3861 non-null   object \n",
      " 4   Country         16126 non-null  object \n",
      " 5   ISO             16126 non-null  object \n",
      " 6   Region          16126 non-null  object \n",
      " 7   Continent       16126 non-null  object \n",
      " 8   Total Deaths    11413 non-null  float64\n",
      " 9   Total Affected  11617 non-null  float64\n",
      " 10  Duration        16126 non-null  int64  \n",
      "dtypes: float64(2), int64(2), object(7)\n",
      "memory usage: 1.4+ MB\n"
     ]
    }
   ],
   "source": [
    "natural_disaster_df.info()"
   ]
  },
  {
   "cell_type": "markdown",
   "metadata": {},
   "source": [
    "## 1.4 Nat. Disasters - Preparing for Merge"
   ]
  },
  {
   "cell_type": "markdown",
   "metadata": {},
   "source": [
    "### 1.4.1 Dropping irrelevant Years\n",
    "The Worldbank API only provides GDP's for the years 1960 to 2021. To test whether the events have an effect on the countries gdps the gdps from the year before, during as well as 3 years after the event will be used. That means that for this project only the years from 1961 to 2018 can be used."
   ]
  },
  {
   "cell_type": "code",
   "execution_count": 33,
   "metadata": {},
   "outputs": [
    {
     "data": {
      "text/plain": "2002    532\n2000    523\n2005    498\n2007    449\n2001    447\n2006    446\n2010    441\n1999    416\n2004    405\n2008    400\n2015    398\n2003    392\n2009    384\n2017    371\n2012    370\n1998    363\n2011    357\n2013    353\n2016    350\n2014    348\n2018    338\n1997    323\n1990    303\n1995    277\n1996    273\n1993    267\n1991    266\n1994    255\n1988    234\n1992    232\n1987    227\n1983    206\n1989    189\n1985    175\n1986    174\n1984    156\n1982    150\n1981    146\n1980    144\n1977    141\n1978    137\n1979    122\n1976     99\n1966     84\n1968     83\n1969     83\n1970     82\n1967     80\n1974     72\n1965     68\n1975     67\n1973     65\n1972     63\n1964     63\n1971     63\n1963     44\n1961     29\n1962     29\nName: Year, dtype: int64"
     },
     "execution_count": 33,
     "metadata": {},
     "output_type": "execute_result"
    }
   ],
   "source": [
    "drop_indexes = natural_disaster_df[(natural_disaster_df['Year'] < 1961)].index\n",
    "drop_indexes = drop_indexes.append(natural_disaster_df[(natural_disaster_df['Year'] > 2018)].index)\n",
    "nat_df = natural_disaster_df.drop(drop_indexes)\n",
    "\n",
    "#nat_df['Year'].unique()\n",
    "nat_df['Year'].value_counts()"
   ]
  },
  {
   "cell_type": "code",
   "execution_count": 34,
   "metadata": {},
   "outputs": [
    {
     "data": {
      "text/plain": "   Year           Group     Type Event Name     Country  ISO  \\\n0  1961  Meteorological    Storm        NaN  Bangladesh  BGD   \n1  1961  Meteorological    Storm        NaN  Bangladesh  BGD   \n2  1961  Meteorological    Storm        NaN  Bangladesh  BGD   \n3  1961  Meteorological    Storm     Hattie      Belize  BLZ   \n4  1961  Climatological  Drought        NaN      Canada  CAN   \n\n             Region Continent  Total Deaths  Total Affected  Duration  \n0     Southern Asia      Asia       11000.0             NaN         0  \n1     Southern Asia      Asia           NaN             NaN         0  \n2     Southern Asia      Asia         266.0             NaN         0  \n3   Central America  Americas         275.0             NaN         0  \n4  Northern America  Americas           NaN             NaN         0  ",
      "text/html": "<div>\n<style scoped>\n    .dataframe tbody tr th:only-of-type {\n        vertical-align: middle;\n    }\n\n    .dataframe tbody tr th {\n        vertical-align: top;\n    }\n\n    .dataframe thead th {\n        text-align: right;\n    }\n</style>\n<table border=\"1\" class=\"dataframe\">\n  <thead>\n    <tr style=\"text-align: right;\">\n      <th></th>\n      <th>Year</th>\n      <th>Group</th>\n      <th>Type</th>\n      <th>Event Name</th>\n      <th>Country</th>\n      <th>ISO</th>\n      <th>Region</th>\n      <th>Continent</th>\n      <th>Total Deaths</th>\n      <th>Total Affected</th>\n      <th>Duration</th>\n    </tr>\n  </thead>\n  <tbody>\n    <tr>\n      <th>0</th>\n      <td>1961</td>\n      <td>Meteorological</td>\n      <td>Storm</td>\n      <td>NaN</td>\n      <td>Bangladesh</td>\n      <td>BGD</td>\n      <td>Southern Asia</td>\n      <td>Asia</td>\n      <td>11000.0</td>\n      <td>NaN</td>\n      <td>0</td>\n    </tr>\n    <tr>\n      <th>1</th>\n      <td>1961</td>\n      <td>Meteorological</td>\n      <td>Storm</td>\n      <td>NaN</td>\n      <td>Bangladesh</td>\n      <td>BGD</td>\n      <td>Southern Asia</td>\n      <td>Asia</td>\n      <td>NaN</td>\n      <td>NaN</td>\n      <td>0</td>\n    </tr>\n    <tr>\n      <th>2</th>\n      <td>1961</td>\n      <td>Meteorological</td>\n      <td>Storm</td>\n      <td>NaN</td>\n      <td>Bangladesh</td>\n      <td>BGD</td>\n      <td>Southern Asia</td>\n      <td>Asia</td>\n      <td>266.0</td>\n      <td>NaN</td>\n      <td>0</td>\n    </tr>\n    <tr>\n      <th>3</th>\n      <td>1961</td>\n      <td>Meteorological</td>\n      <td>Storm</td>\n      <td>Hattie</td>\n      <td>Belize</td>\n      <td>BLZ</td>\n      <td>Central America</td>\n      <td>Americas</td>\n      <td>275.0</td>\n      <td>NaN</td>\n      <td>0</td>\n    </tr>\n    <tr>\n      <th>4</th>\n      <td>1961</td>\n      <td>Climatological</td>\n      <td>Drought</td>\n      <td>NaN</td>\n      <td>Canada</td>\n      <td>CAN</td>\n      <td>Northern America</td>\n      <td>Americas</td>\n      <td>NaN</td>\n      <td>NaN</td>\n      <td>0</td>\n    </tr>\n  </tbody>\n</table>\n</div>"
     },
     "execution_count": 34,
     "metadata": {},
     "output_type": "execute_result"
    }
   ],
   "source": [
    "# Fixing Index\n",
    "nat_df = nat_df.reset_index(drop=True)\n",
    "nat_df.head()"
   ]
  },
  {
   "cell_type": "markdown",
   "metadata": {},
   "source": [
    "### 1.4.2 Obtaining List of ISO Codes"
   ]
  },
  {
   "cell_type": "code",
   "execution_count": 35,
   "metadata": {},
   "outputs": [
    {
     "data": {
      "text/plain": "227"
     },
     "execution_count": 35,
     "metadata": {},
     "output_type": "execute_result"
    }
   ],
   "source": [
    "# Getting all GDP's once per country\n",
    "country_iso_codes = nat_df['ISO'].unique().tolist()\n",
    "len(country_iso_codes)"
   ]
  },
  {
   "cell_type": "markdown",
   "metadata": {},
   "source": [
    "## 1.5 GDP's - Testing API"
   ]
  },
  {
   "cell_type": "markdown",
   "metadata": {},
   "source": [
    "## Requests\n",
    "- GDP Definition: https://api.worldbank.org/v2/indicator/NY.GDP.MKTP.CD\n",
    "- Getting GDP all: https://api.worldbank.org/v2/country/all/indicator/NY.GDP.MKTP.CD?page=1\n",
    "- Getting GDP by Country ISO Code: https://api.worldbank.org/v2/country/cpv/indicator/NY.GDP.MKTP.CD?per_page=62\n",
    "- Getting GDP for Certain Years: https://api.worldbank.org/v2/country/cpv/indicator/NY.GDP.MKTP.CD?date=1960:1964"
   ]
  },
  {
   "cell_type": "code",
   "execution_count": 36,
   "metadata": {},
   "outputs": [],
   "source": [
    "import requests\n",
    "import xml.etree.ElementTree as ET\n",
    "from genericpath import exists"
   ]
  },
  {
   "cell_type": "markdown",
   "metadata": {},
   "source": [
    "### 1.5.1 Testing Request and Handling XML Response"
   ]
  },
  {
   "cell_type": "code",
   "execution_count": 40,
   "metadata": {},
   "outputs": [
    {
     "name": "stdout",
     "output_type": "stream",
     "text": [
      "{http://www.worldbank.org}data\n",
      "\t {http://www.worldbank.org}indicator GDP (current US$)\n",
      "\t {http://www.worldbank.org}country Cabo Verde\n",
      "\t {http://www.worldbank.org}countryiso3code CPV\n",
      "\t {http://www.worldbank.org}date 2001\n",
      "\t {http://www.worldbank.org}value 563024383.296626\n",
      "\t {http://www.worldbank.org}unit None\n",
      "\t {http://www.worldbank.org}obs_status None\n",
      "\t {http://www.worldbank.org}decimal 0\n",
      "{http://www.worldbank.org}data\n",
      "\t {http://www.worldbank.org}indicator GDP (current US$)\n",
      "\t {http://www.worldbank.org}country Cabo Verde\n",
      "\t {http://www.worldbank.org}countryiso3code CPV\n",
      "\t {http://www.worldbank.org}date 2000\n",
      "\t {http://www.worldbank.org}value 539227277.626411\n",
      "\t {http://www.worldbank.org}unit None\n",
      "\t {http://www.worldbank.org}obs_status None\n",
      "\t {http://www.worldbank.org}decimal 0\n"
     ]
    }
   ],
   "source": [
    "response = requests.get('https://api.worldbank.org/v2/country/cpv/indicator/NY.GDP.MKTP.CD?date=2000:2001')\n",
    "\n",
    "root = ET.fromstring(response.content)\n",
    "\n",
    "for child in root:\n",
    "    print(child.tag)\n",
    "    for subchild in child:\n",
    "        print('\\t', subchild.tag, subchild.text)"
   ]
  },
  {
   "cell_type": "code",
   "execution_count": 45,
   "metadata": {},
   "outputs": [
    {
     "name": "stdout",
     "output_type": "stream",
     "text": [
      "2001  :  563,024,383.30\n",
      "2000  :  539,227,277.63\n"
     ]
    }
   ],
   "source": [
    "\n",
    "for entry in root:\n",
    "    numb = \"{:,.2f}\".format(float(entry.find('{http://www.worldbank.org}value').text))\n",
    "    print(entry.find('{http://www.worldbank.org}date').text, ' : ',numb)"
   ]
  },
  {
   "cell_type": "markdown",
   "metadata": {},
   "source": [
    "## 1.6 GDP's - Obtaining GDP's for all Countries & Save"
   ]
  },
  {
   "cell_type": "code",
   "execution_count": 46,
   "metadata": {},
   "outputs": [
    {
     "data": {
      "text/plain": "               1960              1961              1962              1963  \\\n0  4274893913.49536  4817580183.60155  5081413339.78635  5319458351.16235   \n1  28071888.5622288  29964370.7125857  31856922.8615428  33749405.0118998   \n2  40461721692.6468  40934952063.9468  42227447631.9159  45029988561.2124   \n3              None              None              None              None   \n4  62225478000.8822  67461644222.0352  75607529809.9288  84759195105.8693   \n\n               1964              1965              1966              1967  \\\n0  5386054619.34987  5906636557.00092  6439687598.32325   7253575399.3215   \n1  36193826.1234775  40069930.0699301  44405594.4055944  47379310.3448276   \n2   49377522896.703  54515179580.7148  61088384036.6515  65668655501.1254   \n3              None              None              None              None   \n4  94007851047.3678  101537248148.427  110045852177.928  118972977486.207   \n\n               1968              1969  ...              2013  \\\n0  7483685473.51275  8471006100.95399  ...   149990451022.29   \n1  44910179.6407186  47305389.2215569  ...  1581844936.42351   \n2  71829810519.8955  79148411661.6902  ...  1846597421834.98   \n3              None              None  ...  47648211133.2183   \n4  129785441507.456  141903068680.309  ...  2811876903329.03   \n\n               2014              2015              2016              2017  \\\n0  172885454931.453   195078678697.23  265236247989.155  293754646182.389   \n1  1676406801.54095   1734320479.1395  1796928936.71505  1844906692.53913   \n2  1805749878439.94  1556508816217.14  1527994741907.43  1649265644244.09   \n3  55612228233.5179  64589334978.8013  74296618481.0882   81770791970.982   \n4  2855964488590.19   2439188643162.5  2472964344587.17  2595151045197.65   \n\n               2018              2019              2020              2021  iso  \n0  321379023557.462  351238438542.792   373902134700.41  416264942893.326  BGD  \n1  1887465218.48204  1945250235.57603   1585631670.3461     1789923264.03  BLZ  \n2  1725329192783.02  1742015045482.31  1645423407568.36  1990761609665.23  CAN  \n3  84269348327.3454  95912590628.1412  107657734392.446  111271112329.975  ETH  \n4  2790956878746.66  2728870246705.88  2630317731455.26  2937472757953.44  FRA  \n\n[5 rows x 63 columns]",
      "text/html": "<div>\n<style scoped>\n    .dataframe tbody tr th:only-of-type {\n        vertical-align: middle;\n    }\n\n    .dataframe tbody tr th {\n        vertical-align: top;\n    }\n\n    .dataframe thead th {\n        text-align: right;\n    }\n</style>\n<table border=\"1\" class=\"dataframe\">\n  <thead>\n    <tr style=\"text-align: right;\">\n      <th></th>\n      <th>1960</th>\n      <th>1961</th>\n      <th>1962</th>\n      <th>1963</th>\n      <th>1964</th>\n      <th>1965</th>\n      <th>1966</th>\n      <th>1967</th>\n      <th>1968</th>\n      <th>1969</th>\n      <th>...</th>\n      <th>2013</th>\n      <th>2014</th>\n      <th>2015</th>\n      <th>2016</th>\n      <th>2017</th>\n      <th>2018</th>\n      <th>2019</th>\n      <th>2020</th>\n      <th>2021</th>\n      <th>iso</th>\n    </tr>\n  </thead>\n  <tbody>\n    <tr>\n      <th>0</th>\n      <td>4274893913.49536</td>\n      <td>4817580183.60155</td>\n      <td>5081413339.78635</td>\n      <td>5319458351.16235</td>\n      <td>5386054619.34987</td>\n      <td>5906636557.00092</td>\n      <td>6439687598.32325</td>\n      <td>7253575399.3215</td>\n      <td>7483685473.51275</td>\n      <td>8471006100.95399</td>\n      <td>...</td>\n      <td>149990451022.29</td>\n      <td>172885454931.453</td>\n      <td>195078678697.23</td>\n      <td>265236247989.155</td>\n      <td>293754646182.389</td>\n      <td>321379023557.462</td>\n      <td>351238438542.792</td>\n      <td>373902134700.41</td>\n      <td>416264942893.326</td>\n      <td>BGD</td>\n    </tr>\n    <tr>\n      <th>1</th>\n      <td>28071888.5622288</td>\n      <td>29964370.7125857</td>\n      <td>31856922.8615428</td>\n      <td>33749405.0118998</td>\n      <td>36193826.1234775</td>\n      <td>40069930.0699301</td>\n      <td>44405594.4055944</td>\n      <td>47379310.3448276</td>\n      <td>44910179.6407186</td>\n      <td>47305389.2215569</td>\n      <td>...</td>\n      <td>1581844936.42351</td>\n      <td>1676406801.54095</td>\n      <td>1734320479.1395</td>\n      <td>1796928936.71505</td>\n      <td>1844906692.53913</td>\n      <td>1887465218.48204</td>\n      <td>1945250235.57603</td>\n      <td>1585631670.3461</td>\n      <td>1789923264.03</td>\n      <td>BLZ</td>\n    </tr>\n    <tr>\n      <th>2</th>\n      <td>40461721692.6468</td>\n      <td>40934952063.9468</td>\n      <td>42227447631.9159</td>\n      <td>45029988561.2124</td>\n      <td>49377522896.703</td>\n      <td>54515179580.7148</td>\n      <td>61088384036.6515</td>\n      <td>65668655501.1254</td>\n      <td>71829810519.8955</td>\n      <td>79148411661.6902</td>\n      <td>...</td>\n      <td>1846597421834.98</td>\n      <td>1805749878439.94</td>\n      <td>1556508816217.14</td>\n      <td>1527994741907.43</td>\n      <td>1649265644244.09</td>\n      <td>1725329192783.02</td>\n      <td>1742015045482.31</td>\n      <td>1645423407568.36</td>\n      <td>1990761609665.23</td>\n      <td>CAN</td>\n    </tr>\n    <tr>\n      <th>3</th>\n      <td>None</td>\n      <td>None</td>\n      <td>None</td>\n      <td>None</td>\n      <td>None</td>\n      <td>None</td>\n      <td>None</td>\n      <td>None</td>\n      <td>None</td>\n      <td>None</td>\n      <td>...</td>\n      <td>47648211133.2183</td>\n      <td>55612228233.5179</td>\n      <td>64589334978.8013</td>\n      <td>74296618481.0882</td>\n      <td>81770791970.982</td>\n      <td>84269348327.3454</td>\n      <td>95912590628.1412</td>\n      <td>107657734392.446</td>\n      <td>111271112329.975</td>\n      <td>ETH</td>\n    </tr>\n    <tr>\n      <th>4</th>\n      <td>62225478000.8822</td>\n      <td>67461644222.0352</td>\n      <td>75607529809.9288</td>\n      <td>84759195105.8693</td>\n      <td>94007851047.3678</td>\n      <td>101537248148.427</td>\n      <td>110045852177.928</td>\n      <td>118972977486.207</td>\n      <td>129785441507.456</td>\n      <td>141903068680.309</td>\n      <td>...</td>\n      <td>2811876903329.03</td>\n      <td>2855964488590.19</td>\n      <td>2439188643162.5</td>\n      <td>2472964344587.17</td>\n      <td>2595151045197.65</td>\n      <td>2790956878746.66</td>\n      <td>2728870246705.88</td>\n      <td>2630317731455.26</td>\n      <td>2937472757953.44</td>\n      <td>FRA</td>\n    </tr>\n  </tbody>\n</table>\n<p>5 rows × 63 columns</p>\n</div>"
     },
     "execution_count": 46,
     "metadata": {},
     "output_type": "execute_result"
    }
   ],
   "source": [
    "warnings.filterwarnings('ignore', category=FutureWarning)\n",
    "\n",
    "# ONLY DO THIS STEP WHEN NECESSARY\n",
    "# Duration ~ 45min\n",
    "if (not exists('data/country_gdps.csv')):\n",
    "    country_gpds_df = pd.DataFrame()\n",
    "    error_isos = []\n",
    "\n",
    "    # Iterate over iso codes and obtaining all gdp values for these countries\n",
    "    for iso in country_iso_codes:\n",
    "        try:\n",
    "            url = f'https://api.worldbank.org/v2/country/{iso}/indicator/NY.GDP.MKTP.CD?per_page=62'\n",
    "            response = requests.get(url)\n",
    "\n",
    "            root = ET.fromstring(response.content)\n",
    "\n",
    "            gdp_dict = {'iso' : iso}\n",
    "            for entry in root:\n",
    "                gdp_dict[entry.find('{http://www.worldbank.org}date').text] = entry.find('{http://www.worldbank.org}value').text\n",
    "\n",
    "            country_gpds_df = country_gpds_df.append(gdp_dict, ignore_index=True)\n",
    "\n",
    "        except:\n",
    "            # Collecting list of iso codes the worldbank api does not list\n",
    "            error_isos.append(iso)\n",
    "\n",
    "    # Save to file\n",
    "    error_df = pd.DataFrame(error_isos)\n",
    "    error_df.to_csv('data/worldbank_iso_erros.csv')\n",
    "    country_gpds_df.to_csv('data/country_gdps.csv')\n",
    "\n",
    "else:\n",
    "    country_gpds_df = pd.read_csv('data/country_gdps.csv', index_col=0)\n",
    "    error_df = pd.read_csv('data/worldbank_iso_erros.csv', index_col=0)\n",
    "    error_isos = error_df['0'].to_list()\n",
    "\n",
    "country_gpds_df.head()\n"
   ]
  },
  {
   "cell_type": "markdown",
   "metadata": {},
   "source": [
    "## 1.7 GDP's - Reviewing Errors\n",
    "Taking a look at the countries the Wordlbank does not list GDPs for"
   ]
  },
  {
   "cell_type": "code",
   "execution_count": 55,
   "metadata": {},
   "outputs": [
    {
     "data": {
      "text/html": [
       "<div>\n",
       "<style scoped>\n",
       "    .dataframe tbody tr th:only-of-type {\n",
       "        vertical-align: middle;\n",
       "    }\n",
       "\n",
       "    .dataframe tbody tr th {\n",
       "        vertical-align: top;\n",
       "    }\n",
       "\n",
       "    .dataframe thead th {\n",
       "        text-align: right;\n",
       "    }\n",
       "</style>\n",
       "<table border=\"1\" class=\"dataframe\">\n",
       "  <thead>\n",
       "    <tr style=\"text-align: right;\">\n",
       "      <th></th>\n",
       "      <th>ISO</th>\n",
       "      <th>Country</th>\n",
       "    </tr>\n",
       "  </thead>\n",
       "  <tbody>\n",
       "    <tr>\n",
       "      <th>16</th>\n",
       "      <td>DFR</td>\n",
       "      <td>Germany Fed Rep</td>\n",
       "    </tr>\n",
       "    <tr>\n",
       "      <th>558</th>\n",
       "      <td>SUN</td>\n",
       "      <td>Soviet Union</td>\n",
       "    </tr>\n",
       "  </tbody>\n",
       "</table>\n",
       "</div>"
      ],
      "text/plain": [
       "     ISO          Country\n",
       "16   DFR  Germany Fed Rep\n",
       "558  SUN     Soviet Union"
      ]
     },
     "execution_count": 55,
     "metadata": {},
     "output_type": "execute_result"
    }
   ],
   "source": [
    "nat_df[nat_df['ISO'].isin(error_isos)][['ISO', 'Country']].drop_duplicates()"
   ]
  },
  {
   "cell_type": "markdown",
   "metadata": {},
   "source": [
    "## 1.8 Nat. Disasters - Clean Up & Save\n",
    "The Worldbank seems to not list GDP's for countries that do not exist anymore as well as countries that are extremely small with population sizes of less then 10000.\n",
    "\n",
    "For now these countries are going to be excluded from the dataframe. The possibility remains to lookup the GDP manually for these countries should that be necessary."
   ]
  },
  {
   "cell_type": "code",
   "execution_count": 47,
   "metadata": {},
   "outputs": [
    {
     "name": "stdout",
     "output_type": "stream",
     "text": [
      "<class 'pandas.core.frame.DataFrame'>\n",
      "Int64Index: 13834 entries, 0 to 14051\n",
      "Data columns (total 11 columns):\n",
      " #   Column          Non-Null Count  Dtype  \n",
      "---  ------          --------------  -----  \n",
      " 0   Year            13834 non-null  int64  \n",
      " 1   Group           13834 non-null  object \n",
      " 2   Type            13834 non-null  object \n",
      " 3   Event Name      3424 non-null   object \n",
      " 4   Country         13834 non-null  object \n",
      " 5   ISO             13834 non-null  object \n",
      " 6   Region          13834 non-null  object \n",
      " 7   Continent       13834 non-null  object \n",
      " 8   Total Deaths    9706 non-null   float64\n",
      " 9   Total Affected  10300 non-null  float64\n",
      " 10  Duration        13834 non-null  int64  \n",
      "dtypes: float64(2), int64(2), object(7)\n",
      "memory usage: 1.3+ MB\n"
     ]
    }
   ],
   "source": [
    "nat_df_reduced = nat_df.drop(nat_df[nat_df['ISO'].isin(error_isos)].index)\n",
    "nat_df_reduced.info()"
   ]
  },
  {
   "cell_type": "code",
   "execution_count": 48,
   "metadata": {},
   "outputs": [],
   "source": [
    "nat_df_reduced.to_csv('data/all_natural_disasters_reduced.csv')"
   ]
  },
  {
   "cell_type": "code",
   "execution_count": null,
   "outputs": [],
   "source": [],
   "metadata": {
    "collapsed": false
   }
  }
 ],
 "metadata": {
  "kernelspec": {
   "display_name": "Python 3.10.0 64-bit",
   "language": "python",
   "name": "python3"
  },
  "language_info": {
   "codemirror_mode": {
    "name": "ipython",
    "version": 3
   },
   "file_extension": ".py",
   "mimetype": "text/x-python",
   "name": "python",
   "nbconvert_exporter": "python",
   "pygments_lexer": "ipython3",
   "version": "3.10.0"
  },
  "orig_nbformat": 4,
  "vscode": {
   "interpreter": {
    "hash": "69a9235b2799f09bc7a4d7fc4018927df298a0a697379818c8dec9478f72590e"
   }
  }
 },
 "nbformat": 4,
 "nbformat_minor": 2
}
