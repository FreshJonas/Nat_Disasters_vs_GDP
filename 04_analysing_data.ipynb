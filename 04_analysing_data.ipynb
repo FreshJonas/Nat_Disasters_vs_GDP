{
 "cells": [
  {
   "cell_type": "markdown",
   "metadata": {},
   "source": [
    "# FIRST LOOK"
   ]
  },
  {
   "cell_type": "code",
   "execution_count": 2,
   "metadata": {},
   "outputs": [],
   "source": [
    "import pandas as pd\n",
    "import matplotlib.pyplot as plt\n",
    "plt.rcParams['figure.facecolor'] = 'white'"
   ]
  },
  {
   "cell_type": "code",
   "execution_count": 4,
   "metadata": {},
   "outputs": [
    {
     "data": {
      "text/html": [
       "<div>\n",
       "<style scoped>\n",
       "    .dataframe tbody tr th:only-of-type {\n",
       "        vertical-align: middle;\n",
       "    }\n",
       "\n",
       "    .dataframe tbody tr th {\n",
       "        vertical-align: top;\n",
       "    }\n",
       "\n",
       "    .dataframe thead th {\n",
       "        text-align: right;\n",
       "    }\n",
       "</style>\n",
       "<table border=\"1\" class=\"dataframe\">\n",
       "  <thead>\n",
       "    <tr style=\"text-align: right;\">\n",
       "      <th></th>\n",
       "      <th>Year</th>\n",
       "      <th>Group</th>\n",
       "      <th>Type</th>\n",
       "      <th>Event Name</th>\n",
       "      <th>Country</th>\n",
       "      <th>ISO</th>\n",
       "      <th>Region</th>\n",
       "      <th>Continent</th>\n",
       "      <th>Total Deaths</th>\n",
       "      <th>Total Affected</th>\n",
       "      <th>Duration</th>\n",
       "      <th>GDP-1</th>\n",
       "      <th>GDP</th>\n",
       "      <th>GDP+1</th>\n",
       "      <th>GDP+2</th>\n",
       "      <th>GDP+3</th>\n",
       "    </tr>\n",
       "  </thead>\n",
       "  <tbody>\n",
       "    <tr>\n",
       "      <th>0</th>\n",
       "      <td>1961</td>\n",
       "      <td>Meteorological</td>\n",
       "      <td>Storm</td>\n",
       "      <td>NaN</td>\n",
       "      <td>Bangladesh</td>\n",
       "      <td>BGD</td>\n",
       "      <td>Southern Asia</td>\n",
       "      <td>Asia</td>\n",
       "      <td>11000.0</td>\n",
       "      <td>NaN</td>\n",
       "      <td>0</td>\n",
       "      <td>4.274894e+09</td>\n",
       "      <td>4.817580e+09</td>\n",
       "      <td>5.081413e+09</td>\n",
       "      <td>5.319458e+09</td>\n",
       "      <td>5.386055e+09</td>\n",
       "    </tr>\n",
       "    <tr>\n",
       "      <th>1</th>\n",
       "      <td>1961</td>\n",
       "      <td>Meteorological</td>\n",
       "      <td>Storm</td>\n",
       "      <td>NaN</td>\n",
       "      <td>Bangladesh</td>\n",
       "      <td>BGD</td>\n",
       "      <td>Southern Asia</td>\n",
       "      <td>Asia</td>\n",
       "      <td>NaN</td>\n",
       "      <td>NaN</td>\n",
       "      <td>0</td>\n",
       "      <td>4.274894e+09</td>\n",
       "      <td>4.817580e+09</td>\n",
       "      <td>5.081413e+09</td>\n",
       "      <td>5.319458e+09</td>\n",
       "      <td>5.386055e+09</td>\n",
       "    </tr>\n",
       "    <tr>\n",
       "      <th>2</th>\n",
       "      <td>1961</td>\n",
       "      <td>Meteorological</td>\n",
       "      <td>Storm</td>\n",
       "      <td>NaN</td>\n",
       "      <td>Bangladesh</td>\n",
       "      <td>BGD</td>\n",
       "      <td>Southern Asia</td>\n",
       "      <td>Asia</td>\n",
       "      <td>266.0</td>\n",
       "      <td>NaN</td>\n",
       "      <td>0</td>\n",
       "      <td>4.274894e+09</td>\n",
       "      <td>4.817580e+09</td>\n",
       "      <td>5.081413e+09</td>\n",
       "      <td>5.319458e+09</td>\n",
       "      <td>5.386055e+09</td>\n",
       "    </tr>\n",
       "    <tr>\n",
       "      <th>3</th>\n",
       "      <td>1961</td>\n",
       "      <td>Meteorological</td>\n",
       "      <td>Storm</td>\n",
       "      <td>Hattie</td>\n",
       "      <td>Belize</td>\n",
       "      <td>BLZ</td>\n",
       "      <td>Central America</td>\n",
       "      <td>Americas</td>\n",
       "      <td>275.0</td>\n",
       "      <td>NaN</td>\n",
       "      <td>0</td>\n",
       "      <td>2.807189e+07</td>\n",
       "      <td>2.996437e+07</td>\n",
       "      <td>3.185692e+07</td>\n",
       "      <td>3.374941e+07</td>\n",
       "      <td>3.619383e+07</td>\n",
       "    </tr>\n",
       "    <tr>\n",
       "      <th>4</th>\n",
       "      <td>1961</td>\n",
       "      <td>Climatological</td>\n",
       "      <td>Drought</td>\n",
       "      <td>NaN</td>\n",
       "      <td>Canada</td>\n",
       "      <td>CAN</td>\n",
       "      <td>Northern America</td>\n",
       "      <td>Americas</td>\n",
       "      <td>NaN</td>\n",
       "      <td>NaN</td>\n",
       "      <td>0</td>\n",
       "      <td>4.046172e+10</td>\n",
       "      <td>4.093495e+10</td>\n",
       "      <td>4.222745e+10</td>\n",
       "      <td>4.502999e+10</td>\n",
       "      <td>4.937752e+10</td>\n",
       "    </tr>\n",
       "  </tbody>\n",
       "</table>\n",
       "</div>"
      ],
      "text/plain": [
       "   Year           Group     Type Event Name     Country  ISO  \\\n",
       "0  1961  Meteorological    Storm        NaN  Bangladesh  BGD   \n",
       "1  1961  Meteorological    Storm        NaN  Bangladesh  BGD   \n",
       "2  1961  Meteorological    Storm        NaN  Bangladesh  BGD   \n",
       "3  1961  Meteorological    Storm     Hattie      Belize  BLZ   \n",
       "4  1961  Climatological  Drought        NaN      Canada  CAN   \n",
       "\n",
       "             Region Continent  Total Deaths  Total Affected  Duration  \\\n",
       "0     Southern Asia      Asia       11000.0             NaN         0   \n",
       "1     Southern Asia      Asia           NaN             NaN         0   \n",
       "2     Southern Asia      Asia         266.0             NaN         0   \n",
       "3   Central America  Americas         275.0             NaN         0   \n",
       "4  Northern America  Americas           NaN             NaN         0   \n",
       "\n",
       "          GDP-1           GDP         GDP+1         GDP+2         GDP+3  \n",
       "0  4.274894e+09  4.817580e+09  5.081413e+09  5.319458e+09  5.386055e+09  \n",
       "1  4.274894e+09  4.817580e+09  5.081413e+09  5.319458e+09  5.386055e+09  \n",
       "2  4.274894e+09  4.817580e+09  5.081413e+09  5.319458e+09  5.386055e+09  \n",
       "3  2.807189e+07  2.996437e+07  3.185692e+07  3.374941e+07  3.619383e+07  \n",
       "4  4.046172e+10  4.093495e+10  4.222745e+10  4.502999e+10  4.937752e+10  "
      ]
     },
     "execution_count": 4,
     "metadata": {},
     "output_type": "execute_result"
    }
   ],
   "source": [
    "df = pd.read_csv('data/nat_disasters_vs_gdp.csv', index_col=0)\n",
    "df.head()"
   ]
  },
  {
   "cell_type": "markdown",
   "metadata": {},
   "source": [
    "## Disaster Group, Subgroup & Type"
   ]
  },
  {
   "cell_type": "markdown",
   "metadata": {},
   "source": [
    "### Group"
   ]
  },
  {
   "cell_type": "code",
   "execution_count": 5,
   "metadata": {},
   "outputs": [
    {
     "data": {
      "image/png": "[encoded data removed]",
      "text/plain": [
       "<Figure size 432x288 with 1 Axes>"
      ]
     },
     "metadata": {},
     "output_type": "display_data"
    }
   ],
   "source": [
    "plt.hist(df['Group'])\n",
    "plt.xticks(rotation=90)\n",
    "plt.show()"
   ]
  },
  {
   "cell_type": "markdown",
   "metadata": {},
   "source": [
    "Reviewing Extra-terrestrial natural disaster"
   ]
  },
  {
   "cell_type": "code",
   "execution_count": 6,
   "metadata": {},
   "outputs": [
    {
     "data": {
      "text/html": [
       "<div>\n",
       "<style scoped>\n",
       "    .dataframe tbody tr th:only-of-type {\n",
       "        vertical-align: middle;\n",
       "    }\n",
       "\n",
       "    .dataframe tbody tr th {\n",
       "        vertical-align: top;\n",
       "    }\n",
       "\n",
       "    .dataframe thead th {\n",
       "        text-align: right;\n",
       "    }\n",
       "</style>\n",
       "<table border=\"1\" class=\"dataframe\">\n",
       "  <thead>\n",
       "    <tr style=\"text-align: right;\">\n",
       "      <th></th>\n",
       "      <th>Year</th>\n",
       "      <th>Group</th>\n",
       "      <th>Type</th>\n",
       "      <th>Event Name</th>\n",
       "      <th>Country</th>\n",
       "      <th>ISO</th>\n",
       "      <th>Region</th>\n",
       "      <th>Continent</th>\n",
       "      <th>Total Deaths</th>\n",
       "      <th>Total Affected</th>\n",
       "      <th>Duration</th>\n",
       "      <th>GDP-1</th>\n",
       "      <th>GDP</th>\n",
       "      <th>GDP+1</th>\n",
       "      <th>GDP+2</th>\n",
       "      <th>GDP+3</th>\n",
       "    </tr>\n",
       "  </thead>\n",
       "  <tbody>\n",
       "    <tr>\n",
       "      <th>12086</th>\n",
       "      <td>2013</td>\n",
       "      <td>Extra-terrestrial</td>\n",
       "      <td>Impact</td>\n",
       "      <td>NaN</td>\n",
       "      <td>Russian Federation (the)</td>\n",
       "      <td>RUS</td>\n",
       "      <td>Eastern Europe</td>\n",
       "      <td>Europe</td>\n",
       "      <td>NaN</td>\n",
       "      <td>301491.0</td>\n",
       "      <td>0</td>\n",
       "      <td>2.208296e+12</td>\n",
       "      <td>2.292473e+12</td>\n",
       "      <td>2.059242e+12</td>\n",
       "      <td>1.363481e+12</td>\n",
       "      <td>1.276787e+12</td>\n",
       "    </tr>\n",
       "  </tbody>\n",
       "</table>\n",
       "</div>"
      ],
      "text/plain": [
       "       Year              Group    Type Event Name                   Country  \\\n",
       "12086  2013  Extra-terrestrial  Impact        NaN  Russian Federation (the)   \n",
       "\n",
       "       ISO          Region Continent  Total Deaths  Total Affected  Duration  \\\n",
       "12086  RUS  Eastern Europe    Europe           NaN        301491.0         0   \n",
       "\n",
       "              GDP-1           GDP         GDP+1         GDP+2         GDP+3  \n",
       "12086  2.208296e+12  2.292473e+12  2.059242e+12  1.363481e+12  1.276787e+12  "
      ]
     },
     "execution_count": 6,
     "metadata": {},
     "output_type": "execute_result"
    }
   ],
   "source": [
    "df[df['Group'] == 'Extra-terrestrial']"
   ]
  },
  {
   "cell_type": "markdown",
   "metadata": {},
   "source": [
    "Checks out: https://en.wikipedia.org/wiki/Chelyabinsk_meteorite"
   ]
  },
  {
   "cell_type": "markdown",
   "metadata": {},
   "source": [
    "### Type"
   ]
  },
  {
   "cell_type": "code",
   "execution_count": 7,
   "metadata": {},
   "outputs": [
    {
     "data": {
      "image/png": "[encoded data removed]",
      "text/plain": [
       "<Figure size 432x288 with 1 Axes>"
      ]
     },
     "metadata": {},
     "output_type": "display_data"
    }
   ],
   "source": [
    "plt.hist(df['Type'])\n",
    "plt.xticks(rotation=90)\n",
    "plt.show()"
   ]
  }
 ],
 "metadata": {
  "kernelspec": {
   "display_name": "Python 3.10.0 64-bit",
   "language": "python",
   "name": "python3"
  },
  "language_info": {
   "codemirror_mode": {
    "name": "ipython",
    "version": 3
   },
   "file_extension": ".py",
   "mimetype": "text/x-python",
   "name": "python",
   "nbconvert_exporter": "python",
   "pygments_lexer": "ipython3",
   "version": "3.10.0"
  },
  "orig_nbformat": 4,
  "vscode": {
   "interpreter": {
    "hash": "69a9235b2799f09bc7a4d7fc4018927df298a0a697379818c8dec9478f72590e"
   }
  }
 },
 "nbformat": 4,
 "nbformat_minor": 2
}
